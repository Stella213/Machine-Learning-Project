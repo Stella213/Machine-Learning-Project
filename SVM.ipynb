{
 "cells": [
  {
   "cell_type": "code",
   "execution_count": 1,
   "metadata": {},
   "outputs": [],
   "source": [
    "import numpy as np\n",
    "import pandas as pd\n",
    "from sklearn import svm\n",
    "from sklearn.metrics import accuracy_score\n",
    "from sklearn.metrics import roc_auc_score\n",
    "from sklearn.metrics import classification_report"
   ]
  },
  {
   "cell_type": "code",
   "execution_count": 2,
   "metadata": {},
   "outputs": [],
   "source": [
    "train = pd.read_csv(\"C:/Users/Luyao Li/Desktop/Wells Fargo/XGBoost/Wells_Fargo_Training.csv\")\n",
    "test = pd.read_csv(\"C:/Users/Luyao Li/Desktop/Wells Fargo/XGBoost/Wells_Fargo_Testing.csv\")"
   ]
  },
  {
   "cell_type": "code",
   "execution_count": 3,
   "metadata": {},
   "outputs": [],
   "source": [
    "training = train.iloc[:, 1:]\n",
    "testing = test.iloc[:, 1:]"
   ]
  },
  {
   "cell_type": "code",
   "execution_count": 4,
   "metadata": {},
   "outputs": [],
   "source": [
    "train_x = training.iloc[:, :-1]\n",
    "train_y = training.iloc[:, -1]\n",
    "test_x = testing.iloc[:, :-1]\n",
    "test_y = testing.iloc[:, -1]"
   ]
  },
  {
   "cell_type": "code",
   "execution_count": 5,
   "metadata": {},
   "outputs": [
    {
     "name": "stdout",
     "output_type": "stream",
     "text": [
      "              precision    recall  f1-score   support\n",
      "\n",
      "           0       0.00      0.00      0.00       175\n",
      "           1       0.50      1.00      0.67       175\n",
      "\n",
      "    accuracy                           0.50       350\n",
      "   macro avg       0.25      0.50      0.33       350\n",
      "weighted avg       0.25      0.50      0.33       350\n",
      "\n",
      "ROC_AUC: 0.5\n"
     ]
    },
    {
     "name": "stderr",
     "output_type": "stream",
     "text": [
      "E:\\Anaconda\\lib\\site-packages\\sklearn\\metrics\\classification.py:1437: UndefinedMetricWarning: Precision and F-score are ill-defined and being set to 0.0 in labels with no predicted samples.\n",
      "  'precision', 'predicted', average, warn_for)\n"
     ]
    }
   ],
   "source": [
    "m1 = svm.SVC(kernel = 'sigmoid', C = 100, gamma = 1e-3)\n",
    "m1.fit(train_x, train_y)\n",
    "prediction = m1.predict(test_x)\n",
    "print(classification_report(test_y, prediction))\n",
    "print(\"ROC_AUC:\", roc_auc_score(test_y, prediction))"
   ]
  }
 ],
 "metadata": {
  "kernelspec": {
   "display_name": "Python 3",
   "language": "python",
   "name": "python3"
  },
  "language_info": {
   "codemirror_mode": {
    "name": "ipython",
    "version": 3
   },
   "file_extension": ".py",
   "mimetype": "text/x-python",
   "name": "python",
   "nbconvert_exporter": "python",
   "pygments_lexer": "ipython3",
   "version": "3.7.4"
  }
 },
 "nbformat": 4,
 "nbformat_minor": 2
}
