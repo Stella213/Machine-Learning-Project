{
 "cells": [
  {
   "cell_type": "code",
   "execution_count": 1,
   "metadata": {},
   "outputs": [],
   "source": [
    "import numpy as np\n",
    "import pandas as pd\n",
    "from xgboost import XGBClassifier\n",
    "from sklearn.metrics import accuracy_score\n",
    "from sklearn.metrics import roc_auc_score\n",
    "from sklearn.metrics import classification_report"
   ]
  },
  {
   "cell_type": "code",
   "execution_count": 6,
   "metadata": {},
   "outputs": [],
   "source": [
    "train = pd.read_csv(\"C:/Users/Luyao Li/Desktop/Wells Fargo/XGBoost/Wells_Fargo_Training.csv\")\n",
    "test = pd.read_csv(\"C:/Users/Luyao Li/Desktop/Wells Fargo/XGBoost/Wells_Fargo_Testing.csv\")"
   ]
  },
  {
   "cell_type": "code",
   "execution_count": 7,
   "metadata": {},
   "outputs": [],
   "source": [
    "train = train.iloc[:, 1:]"
   ]
  },
  {
   "cell_type": "code",
   "execution_count": 8,
   "metadata": {},
   "outputs": [],
   "source": [
    "test = test.iloc[:, 1:]"
   ]
  },
  {
   "cell_type": "code",
   "execution_count": 9,
   "metadata": {},
   "outputs": [
    {
     "name": "stdout",
     "output_type": "stream",
     "text": [
      "roc_auc_score: 0.7742857142857142\n",
      "Confusion Matrix:\n",
      "              precision    recall  f1-score   support\n",
      "\n",
      "           0       0.80      0.74      0.77       175\n",
      "           1       0.76      0.81      0.78       175\n",
      "\n",
      "    accuracy                           0.77       350\n",
      "   macro avg       0.78      0.77      0.77       350\n",
      "weighted avg       0.78      0.77      0.77       350\n",
      "\n"
     ]
    }
   ],
   "source": [
    "train_x = train.iloc[:, :-1]\n",
    "train_y = train.iloc[:, -1]\n",
    "test_x = test.iloc[:, :-1]\n",
    "test_y = test.iloc[:, -1]\n",
    "XGBoost_model = XGBClassifier(base_score=0.5, booster=None, colsample_bylevel=1,\n",
    "            colsample_bynode=1, colsample_bytree=0.6, gamma=1, gpu_id=-1,\n",
    "            importance_type='gain', interaction_constraints=None,\n",
    "            learning_rate=0.02, max_delta_step=0, max_depth=4,\n",
    "            min_child_weight=15, missing=None, monotone_constraints=None,\n",
    "            n_estimators=600, n_jobs=1, nthread=1, num_parallel_tree=1,\n",
    "            objective='binary:logistic', random_state=0, reg_alpha=0,\n",
    "            reg_lambda=1, scale_pos_weight=1, silent=True, subsample=1.0,\n",
    "            tree_method=None, validate_parameters=False, verbosity=None)\n",
    "XGBoost_model.fit(train_x, train_y)\n",
    "XGBoost_pred = XGBoost_model.predict(test_x)\n",
    "print(\"roc_auc_score:\", roc_auc_score(test_y, XGBoost_pred))\n",
    "print(\"Confusion Matrix:\")\n",
    "print(classification_report(test_y, XGBoost_pred))"
   ]
  }
 ],
 "metadata": {
  "kernelspec": {
   "display_name": "Python 3",
   "language": "python",
   "name": "python3"
  },
  "language_info": {
   "codemirror_mode": {
    "name": "ipython",
    "version": 3
   },
   "file_extension": ".py",
   "mimetype": "text/x-python",
   "name": "python",
   "nbconvert_exporter": "python",
   "pygments_lexer": "ipython3",
   "version": "3.7.4"
  }
 },
 "nbformat": 4,
 "nbformat_minor": 2
}
